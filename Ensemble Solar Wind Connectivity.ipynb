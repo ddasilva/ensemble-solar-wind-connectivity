{
 "cells": [
  {
   "cell_type": "code",
   "execution_count": null,
   "id": "1be396d4-6d90-4b77-abbc-83a8836a0dfb",
   "metadata": {},
   "outputs": [],
   "source": [
    "from datetime import datetime\n",
    "import os\n",
    "\n",
    "from dasilva_space_weather_2023 import (\n",
    "    load_footpoints,\n",
    "    estimate_footpoint_distribution,\n",
    "    plot_footpoint_distribution,\n",
    "    SLIDING_WINDOW_LENGTH\n",
    ")"
   ]
  },
  {
   "cell_type": "markdown",
   "id": "310f4e63-9815-4472-b4cc-557481dcf82c",
   "metadata": {},
   "source": [
    "# Check data directory exists\n",
    "Data should be downloaded from Zenodo at this location, and extracted into a directory called `data/` at the top-level of this repository. The code block that follows checks that this was done."
   ]
  },
  {
   "cell_type": "code",
   "execution_count": null,
   "id": "dd52a2b0-e2a6-4222-85f7-5604c3f120f9",
   "metadata": {},
   "outputs": [],
   "source": [
    "if os.path.exists('./data'):\n",
    "    print('Data directory found. Good to proceed!')\n",
    "else:\n",
    "    raise RuntimeError(\n",
    "        'The data directory does not exist. It should be downloaded and renamed '\n",
    "        'to \"data\" at the top-level. Please do this before continuing.'\n",
    "    )"
   ]
  },
  {
   "cell_type": "markdown",
   "id": "7f4d897a-50d6-4ce3-9ffd-bbb9016b243d",
   "metadata": {},
   "source": [
    "# Load Source Locations (Footpoints)\n",
    "This section calls the `load_footpoints()` functon to load all source locations predicted over the entire WSA time period processed. Each time we make a prediction, we will take a subset of this for the associated time window."
   ]
  },
  {
   "cell_type": "code",
   "execution_count": null,
   "id": "19d46cf2-d5d2-4281-9561-179428eaed84",
   "metadata": {},
   "outputs": [],
   "source": [
    "df_fp = load_footpoints('data/March2010_ACE/PREDSOLARWIND', 'AGONG')"
   ]
  },
  {
   "cell_type": "code",
   "execution_count": null,
   "id": "0ff29315-df26-4c72-a59d-6ff8a40c6feb",
   "metadata": {},
   "outputs": [],
   "source": [
    "display_cols = ['juldate', 'lon_footpoint', 'lat_footpoint']\n",
    "\n",
    "df_fp[display_cols].head()"
   ]
  },
  {
   "cell_type": "markdown",
   "id": "ab3150a1-e483-4af7-a49f-bee073f30071",
   "metadata": {},
   "source": [
    "# Take Subset for Time Window around Prediction Time"
   ]
  },
  {
   "cell_type": "code",
   "execution_count": null,
   "id": "6a720dc0-67f2-4457-9647-dcdb842b8fc8",
   "metadata": {},
   "outputs": [],
   "source": [
    "prediction_time = datetime(2010, 3, 20, 20)\n",
    "start_window = prediction_time - SLIDING_WINDOW_LENGTH / 2\n",
    "stop_window = prediction_time + SLIDING_WINDOW_LENGTH / 2\n",
    "\n",
    "df_window = df_fp[(df_fp.juldate > start_window) & (df_fp.juldate < stop_window)]\n",
    "df_window[display_cols].head()"
   ]
  },
  {
   "cell_type": "code",
   "execution_count": null,
   "id": "42272a0b-8aa2-40c0-bc8d-851d47301aa0",
   "metadata": {},
   "outputs": [],
   "source": [
    "df_times = load_target_times('data/March2010_ACE/PREDSOLARWIND', 'AGONG')"
   ]
  },
  {
   "cell_type": "code",
   "execution_count": null,
   "id": "53089737-9eac-4c63-8d56-fd2177425bcd",
   "metadata": {},
   "outputs": [],
   "source": [
    "len(df_times.index)"
   ]
  },
  {
   "cell_type": "markdown",
   "id": "c40e468f-2187-46fa-8bbc-cf6f7496f49e",
   "metadata": {},
   "source": [
    "# Generate the Probability Map\n",
    "This esction uses a function `estimate_footpoint_distribution()` to compute the relative probability distribution. The core of this function uses the Scikit-Learn class [sklearn.neighbors.KernelDensity](https://scikit-learn.org/stable/modules/generated/sklearn.neighbors.KernelDensity.html). Our function returns three arrays:\n",
    "- `prob_map` (2D array of relative probability values in [0, 1])\n",
    "- `prob_map_lon` (the longitudes associated with `prob_map`, in radians)\n",
    "- `prob_map_lat` (the latitudes associated with `prob_map`, in radians)"
   ]
  },
  {
   "cell_type": "code",
   "execution_count": null,
   "id": "4f841f2d-588a-4d73-b1f3-e713a71f4129",
   "metadata": {},
   "outputs": [],
   "source": [
    "prob_map, prob_map_lon, prob_map_lat = estimate_footpoint_distribution(prediction_time, df_window)"
   ]
  },
  {
   "cell_type": "markdown",
   "id": "cdd3a110-7128-4b13-b90a-e0d44250beda",
   "metadata": {},
   "source": [
    "# Plot the Probability Map"
   ]
  },
  {
   "cell_type": "markdown",
   "id": "899d9ba6-4a6b-4878-b9b5-04da6fc07112",
   "metadata": {},
   "source": [
    "The `plot_footpoint_distribution()` function is used to plot the distribution. This function uses [Cartopy](https://scitools.org.uk/cartopy/docs/latest/) to handle map projection and the dual longitude axis labeling. The fits file passed is used to plot the background magnetogram."
   ]
  },
  {
   "cell_type": "code",
   "execution_count": null,
   "id": "a806c35c-ad9c-4da6-8b08-a0a6aabc631d",
   "metadata": {},
   "outputs": [],
   "source": [
    "plot_footpoint_distribution(\n",
    "    df_window, prob_map, prob_map_lon, prob_map_lat, prediction_time,\n",
    "    'Earth', 'data/March2010_ACE/CORONA', \n",
    ")"
   ]
  }
 ],
 "metadata": {
  "kernelspec": {
   "display_name": "Python 3 (ipykernel)",
   "language": "python",
   "name": "python3"
  },
  "language_info": {
   "codemirror_mode": {
    "name": "ipython",
    "version": 3
   },
   "file_extension": ".py",
   "mimetype": "text/x-python",
   "name": "python",
   "nbconvert_exporter": "python",
   "pygments_lexer": "ipython3",
   "version": "3.9.16"
  }
 },
 "nbformat": 4,
 "nbformat_minor": 5
}
